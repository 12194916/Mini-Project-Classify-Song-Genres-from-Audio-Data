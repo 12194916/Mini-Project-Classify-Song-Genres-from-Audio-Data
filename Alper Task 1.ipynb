{
 "cells": [
  {
   "cell_type": "code",
   "execution_count": 2,
   "id": "6ccb42f0-ce40-4309-8778-d0cd7b8f7456",
   "metadata": {},
   "outputs": [],
   "source": [
    "# import os\n",
    "# os.getcwd()\n",
    "# import sys\n",
    "# sys.path.insert(0, './A')\n",
    "# sys.path.insert(0,'./A/GSA.py')"
   ]
  },
  {
   "cell_type": "code",
   "execution_count": 36,
   "id": "5e2f790e",
   "metadata": {},
   "outputs": [],
   "source": [
    "import spotipy\n",
    "from spotipy.oauth2 import SpotifyClientCredentials\n",
    "import pickle\n",
    "import json"
   ]
  },
  {
   "cell_type": "code",
   "execution_count": 9,
   "id": "d83f6a1b",
   "metadata": {},
   "outputs": [],
   "source": [
    "client_credentials_manager = SpotifyClientCredentials(client_id='86235f72676a409db908ad434249f5cf', client_secret='e7d0538c8c304c9c863ed7e6da7fb56b')\n",
    "sp = spotipy.Spotify(client_credentials_manager = client_credentials_manager)"
   ]
  },
  {
   "cell_type": "code",
   "execution_count": 10,
   "id": "ee9308aa",
   "metadata": {},
   "outputs": [],
   "source": [
    "playlist_link = \"https://open.spotify.com/playlist/2BBbuiq3a02GzR767s6Y2T?si=67827db0cf334bde\"\n",
    "playlist_URI = playlist_link.split(\"/\")[-1].split(\"?\")[0]\n",
    "track_uris = [x[\"track\"][\"uri\"] for x in sp.playlist_tracks(playlist_URI)[\"items\"]]"
   ]
  },
  {
   "cell_type": "code",
   "execution_count": 25,
   "id": "27e6bde3",
   "metadata": {},
   "outputs": [],
   "source": [
    "list_dict=sp.audio_features(track_uris)\n"
   ]
  },
  {
   "cell_type": "code",
   "execution_count": 26,
   "id": "7957d579",
   "metadata": {},
   "outputs": [],
   "source": [
    "with open('data.json', 'wb') as sd:\n",
    "    pickle.dump(list_dict, sd)"
   ]
  },
  {
   "cell_type": "code",
   "execution_count": 27,
   "id": "380475d7",
   "metadata": {},
   "outputs": [],
   "source": [
    "with open('data.json', 'rb') as sd:\n",
    "    data = pickle.load(sd)"
   ]
  },
  {
   "cell_type": "code",
   "execution_count": 29,
   "id": "9f930798",
   "metadata": {},
   "outputs": [
    {
     "name": "stdout",
     "output_type": "stream",
     "text": [
      "{'danceability': 0.617, 'energy': 0.635, 'key': 11, 'loudness': -6.769, 'mode': 0, 'speechiness': 0.0317, 'acousticness': 0.0498, 'instrumentalness': 1.44e-05, 'liveness': 0.164, 'valence': 0.446, 'tempo': 103.019, 'type': 'audio_features', 'id': '6RUKPb4LETWmmr3iAEQktW', 'uri': 'spotify:track:6RUKPb4LETWmmr3iAEQktW', 'track_href': 'https://api.spotify.com/v1/tracks/6RUKPb4LETWmmr3iAEQktW', 'analysis_url': 'https://api.spotify.com/v1/audio-analysis/6RUKPb4LETWmmr3iAEQktW', 'duration_ms': 247160, 'time_signature': 4}\n"
     ]
    }
   ],
   "source": [
    "print(data[0])\n"
   ]
  },
  {
   "cell_type": "code",
   "execution_count": 37,
   "id": "50d39973",
   "metadata": {
    "collapsed": true
   },
   "outputs": [
    {
     "ename": "TypeError",
     "evalue": "a bytes-like object is required, not 'str'",
     "output_type": "error",
     "traceback": [
      "\u001b[1;31m---------------------------------------------------------------------------\u001b[0m",
      "\u001b[1;31mTypeError\u001b[0m                                 Traceback (most recent call last)",
      "Input \u001b[1;32mIn [37]\u001b[0m, in \u001b[0;36m<cell line: 1>\u001b[1;34m()\u001b[0m\n\u001b[0;32m      1\u001b[0m \u001b[38;5;28;01mwith\u001b[39;00m \u001b[38;5;28mopen\u001b[39m(\u001b[38;5;124m'\u001b[39m\u001b[38;5;124mdict2\u001b[39m\u001b[38;5;124m'\u001b[39m, \u001b[38;5;124m'\u001b[39m\u001b[38;5;124mwb\u001b[39m\u001b[38;5;124m'\u001b[39m) \u001b[38;5;28;01mas\u001b[39;00m sd:\n\u001b[1;32m----> 2\u001b[0m     \u001b[43mjson\u001b[49m\u001b[38;5;241;43m.\u001b[39;49m\u001b[43mdump\u001b[49m\u001b[43m(\u001b[49m\u001b[43mlist_dict\u001b[49m\u001b[43m,\u001b[49m\u001b[43m \u001b[49m\u001b[43msd\u001b[49m\u001b[43m)\u001b[49m\n",
      "File \u001b[1;32mC:\\Python310\\lib\\json\\__init__.py:180\u001b[0m, in \u001b[0;36mdump\u001b[1;34m(obj, fp, skipkeys, ensure_ascii, check_circular, allow_nan, cls, indent, separators, default, sort_keys, **kw)\u001b[0m\n\u001b[0;32m    177\u001b[0m \u001b[38;5;66;03m# could accelerate with writelines in some versions of Python, at\u001b[39;00m\n\u001b[0;32m    178\u001b[0m \u001b[38;5;66;03m# a debuggability cost\u001b[39;00m\n\u001b[0;32m    179\u001b[0m \u001b[38;5;28;01mfor\u001b[39;00m chunk \u001b[38;5;129;01min\u001b[39;00m iterable:\n\u001b[1;32m--> 180\u001b[0m     \u001b[43mfp\u001b[49m\u001b[38;5;241;43m.\u001b[39;49m\u001b[43mwrite\u001b[49m\u001b[43m(\u001b[49m\u001b[43mchunk\u001b[49m\u001b[43m)\u001b[49m\n",
      "\u001b[1;31mTypeError\u001b[0m: a bytes-like object is required, not 'str'"
     ]
    }
   ],
   "source": [
    "# with open('dict2', 'wb') as sd:\n",
    "#     json.dump(list_dict, sd)"
   ]
  },
  {
   "cell_type": "code",
   "execution_count": null,
   "id": "1bff1b54",
   "metadata": {},
   "outputs": [],
   "source": []
  }
 ],
 "metadata": {
  "kernelspec": {
   "display_name": "Python 3 (ipykernel)",
   "language": "python",
   "name": "python3"
  },
  "language_info": {
   "codemirror_mode": {
    "name": "ipython",
    "version": 3
   },
   "file_extension": ".py",
   "mimetype": "text/x-python",
   "name": "python",
   "nbconvert_exporter": "python",
   "pygments_lexer": "ipython3",
   "version": "3.10.6"
  }
 },
 "nbformat": 4,
 "nbformat_minor": 5
}
